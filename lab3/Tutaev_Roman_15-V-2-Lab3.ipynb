{
 "cells": [
  {
   "cell_type": "markdown",
   "metadata": {},
   "source": [
    "# Машинное обучение\n",
    "## Лабораторная работа №3\n",
    "\n",
    "Выполнил студент группы 15-В-2   \n",
    "Тутаев Роман   \n",
    "Вариант №14"
   ]
  },
  {
   "cell_type": "code",
   "execution_count": 11,
   "metadata": {},
   "outputs": [],
   "source": [
    "import numpy as np\n",
    "import pandas as pd\n",
    "import sklearn as sk\n",
    "import seaborn as sns\n",
    "import matplotlib.pyplot as plt\n",
    "\n",
    "from sklearn import linear_model\n",
    "from sklearn.preprocessing import MinMaxScaler\n",
    "from sklearn.model_selection import GridSearchCV\n",
    "from sklearn.preprocessing import PolynomialFeatures\n",
    "from sklearn.model_selection import (cross_val_score, StratifiedKFold,\n",
    "                                     train_test_split)\n",
    "from sklearn.linear_model import LogisticRegression, LogisticRegressionCV\n",
    "\n",
    "from scipy.stats import pearsonr, spearmanr"
   ]
  },
  {
   "cell_type": "markdown",
   "metadata": {},
   "source": [
    "### 1.\tИзучить набор данных. Создать описание набора данных на русском языке. Описать признаки, используемые в наборе данных "
   ]
  },
  {
   "cell_type": "markdown",
   "metadata": {},
   "source": [
    "Набор данных содержит информацию о работе электростанции\n",
    "\n",
    "| Переменная   | Описание  | Параметр  | \n",
    "|--------------|--------------|-------------------|\n",
    "|AT|средняя температура| вещественный|\n",
    "|V|отработка|вещественный|\n",
    "|AP|давление окружающей среды|вещественный|\n",
    "|RH|относительная влажность|вещественный|\n",
    "|PE|произведенная электроэнергия|вещественный|\n",
    "\n",
    "Нужно предсказать количество произведенной энергии"
   ]
  },
  {
   "cell_type": "code",
   "execution_count": 38,
   "metadata": {},
   "outputs": [
    {
     "data": {
      "text/html": [
       "<div>\n",
       "<table border=\"1\" class=\"dataframe\">\n",
       "  <thead>\n",
       "    <tr style=\"text-align: right;\">\n",
       "      <th></th>\n",
       "      <th>AT</th>\n",
       "      <th>V</th>\n",
       "      <th>AP</th>\n",
       "      <th>RH</th>\n",
       "      <th>PE</th>\n",
       "    </tr>\n",
       "  </thead>\n",
       "  <tbody>\n",
       "    <tr>\n",
       "      <th>0</th>\n",
       "      <td>8.34</td>\n",
       "      <td>40.77</td>\n",
       "      <td>1010.84</td>\n",
       "      <td>90.01</td>\n",
       "      <td>480.48</td>\n",
       "    </tr>\n",
       "    <tr>\n",
       "      <th>1</th>\n",
       "      <td>23.64</td>\n",
       "      <td>58.49</td>\n",
       "      <td>1011.40</td>\n",
       "      <td>74.20</td>\n",
       "      <td>445.75</td>\n",
       "    </tr>\n",
       "    <tr>\n",
       "      <th>2</th>\n",
       "      <td>29.74</td>\n",
       "      <td>56.90</td>\n",
       "      <td>1007.15</td>\n",
       "      <td>41.91</td>\n",
       "      <td>438.76</td>\n",
       "    </tr>\n",
       "    <tr>\n",
       "      <th>3</th>\n",
       "      <td>19.07</td>\n",
       "      <td>49.69</td>\n",
       "      <td>1007.22</td>\n",
       "      <td>76.79</td>\n",
       "      <td>453.09</td>\n",
       "    </tr>\n",
       "    <tr>\n",
       "      <th>4</th>\n",
       "      <td>11.80</td>\n",
       "      <td>40.66</td>\n",
       "      <td>1017.13</td>\n",
       "      <td>97.20</td>\n",
       "      <td>464.43</td>\n",
       "    </tr>\n",
       "  </tbody>\n",
       "</table>\n",
       "</div>"
      ],
      "text/plain": [
       "      AT      V       AP     RH      PE\n",
       "0   8.34  40.77  1010.84  90.01  480.48\n",
       "1  23.64  58.49  1011.40  74.20  445.75\n",
       "2  29.74  56.90  1007.15  41.91  438.76\n",
       "3  19.07  49.69  1007.22  76.79  453.09\n",
       "4  11.80  40.66  1017.13  97.20  464.43"
      ]
     },
     "execution_count": 38,
     "metadata": {},
     "output_type": "execute_result"
    }
   ],
   "source": [
    "df = pd.read_csv('Folds5x2_pp.csv')\n",
    "df.head()"
   ]
  },
  {
   "cell_type": "code",
   "execution_count": 39,
   "metadata": {},
   "outputs": [
    {
     "name": "stdout",
     "output_type": "stream",
     "text": [
      "dataset size:  (9568, 5)\n"
     ]
    },
    {
     "data": {
      "text/plain": [
       "AT    9568\n",
       "V     9568\n",
       "AP    9568\n",
       "RH    9568\n",
       "PE    9568\n",
       "dtype: int64"
      ]
     },
     "execution_count": 39,
     "metadata": {},
     "output_type": "execute_result"
    }
   ],
   "source": [
    "print('dataset size: ', df.shape)\n",
    "df.count()"
   ]
  },
  {
   "cell_type": "markdown",
   "metadata": {},
   "source": [
    "### 2.\tУдалите дубликаты строк в наборе данных; приведите размер набора данных до и после данной операции"
   ]
  },
  {
   "cell_type": "code",
   "execution_count": 40,
   "metadata": {},
   "outputs": [
    {
     "name": "stdout",
     "output_type": "stream",
     "text": [
      "dataset size before reduce:  (9568, 5)\n",
      "dataset size:  (9527, 5)\n"
     ]
    }
   ],
   "source": [
    "print('dataset size before reduce: ', df.shape)\n",
    "\n",
    "df = df.drop_duplicates()\n",
    "df = df.dropna().reset_index(drop=True)\n",
    "print('dataset size: ', df.shape)"
   ]
  },
  {
   "cell_type": "markdown",
   "metadata": {},
   "source": [
    "### 3.\tВыполните масштабирование количественных признаков; Постройте диаграммы BoxPlot для признаков до и после масштабирования. Выберите способ масштабирования (например, нормализацию или стандартизацию"
   ]
  },
  {
   "cell_type": "code",
   "execution_count": 42,
   "metadata": {},
   "outputs": [
    {
     "name": "stdout",
     "output_type": "stream",
     "text": [
      "numerical:  ['AT', 'V', 'AP', 'RH', 'PE']\n",
      "categorial:  []\n"
     ]
    }
   ],
   "source": [
    "numerical_columns = [i for i in df.columns if df[i].dtype.name != 'object']\n",
    "categorial_columns = [i for i in df.columns if df[i].dtype.name == 'object']\n",
    "\n",
    "print('numerical: ', numerical_columns)\n",
    "print('categorial: ', categorial_columns)"
   ]
  },
  {
   "cell_type": "code",
   "execution_count": 44,
   "metadata": {},
   "outputs": [
    {
     "data": {
      "image/png": "[encoded data removed]",
      "text/plain": [
       "<matplotlib.figure.Figure at 0x7f9f7f3deac8>"
      ]
     },
     "metadata": {},
     "output_type": "display_data"
    }
   ],
   "source": [
    "plt.figure(figsize=(5,5))\n",
    "sns.boxplot(data=df[numerical_columns])\n",
    "plt.title(\"Before normalization\")\n",
    "plt.show()"
   ]
  },
  {
   "cell_type": "code",
   "execution_count": 46,
   "metadata": {},
   "outputs": [
    {
     "data": {
      "text/html": [
       "<div>\n",
       "<table border=\"1\" class=\"dataframe\">\n",
       "  <thead>\n",
       "    <tr style=\"text-align: right;\">\n",
       "      <th></th>\n",
       "      <th>AT</th>\n",
       "      <th>V</th>\n",
       "      <th>AP</th>\n",
       "      <th>RH</th>\n",
       "      <th>PE</th>\n",
       "    </tr>\n",
       "  </thead>\n",
       "  <tbody>\n",
       "    <tr>\n",
       "      <th>0</th>\n",
       "      <td>0.184986</td>\n",
       "      <td>0.274199</td>\n",
       "      <td>0.444197</td>\n",
       "      <td>0.863941</td>\n",
       "      <td>0.797616</td>\n",
       "    </tr>\n",
       "    <tr>\n",
       "      <th>1</th>\n",
       "      <td>0.618414</td>\n",
       "      <td>0.589502</td>\n",
       "      <td>0.458055</td>\n",
       "      <td>0.652011</td>\n",
       "      <td>0.337616</td>\n",
       "    </tr>\n",
       "    <tr>\n",
       "      <th>2</th>\n",
       "      <td>0.791218</td>\n",
       "      <td>0.561210</td>\n",
       "      <td>0.352883</td>\n",
       "      <td>0.219169</td>\n",
       "      <td>0.245033</td>\n",
       "    </tr>\n",
       "    <tr>\n",
       "      <th>3</th>\n",
       "      <td>0.488952</td>\n",
       "      <td>0.432918</td>\n",
       "      <td>0.354615</td>\n",
       "      <td>0.686729</td>\n",
       "      <td>0.434834</td>\n",
       "    </tr>\n",
       "    <tr>\n",
       "      <th>4</th>\n",
       "      <td>0.283003</td>\n",
       "      <td>0.272242</td>\n",
       "      <td>0.599852</td>\n",
       "      <td>0.960322</td>\n",
       "      <td>0.585033</td>\n",
       "    </tr>\n",
       "  </tbody>\n",
       "</table>\n",
       "</div>"
      ],
      "text/plain": [
       "         AT         V        AP        RH        PE\n",
       "0  0.184986  0.274199  0.444197  0.863941  0.797616\n",
       "1  0.618414  0.589502  0.458055  0.652011  0.337616\n",
       "2  0.791218  0.561210  0.352883  0.219169  0.245033\n",
       "3  0.488952  0.432918  0.354615  0.686729  0.434834\n",
       "4  0.283003  0.272242  0.599852  0.960322  0.585033"
      ]
     },
     "execution_count": 46,
     "metadata": {},
     "output_type": "execute_result"
    }
   ],
   "source": [
    "scaler = MinMaxScaler()\n",
    "df[numerical_columns] = scaler.fit_transform(df[numerical_columns])\n",
    "df.head()"
   ]
  },
  {
   "cell_type": "code",
   "execution_count": 47,
   "metadata": {},
   "outputs": [
    {
     "data": {
      "image/png": "[encoded data removed]",
      "text/plain": [
       "<matplotlib.figure.Figure at 0x7f9f7f5d2198>"
      ]
     },
     "metadata": {},
     "output_type": "display_data"
    }
   ],
   "source": [
    "plt.figure(figsize=(5,5))\n",
    "sns.boxplot(data=df[numerical_columns])\n",
    "plt.show()"
   ]
  },
  {
   "cell_type": "markdown",
   "metadata": {},
   "source": [
    "### 4.\tВыполните замену категориальных признаков; выберите и обоснуйте способ замены\n",
    "В наборе нет категориальных признаков (см. пункт 3)"
   ]
  },
  {
   "cell_type": "markdown",
   "metadata": {},
   "source": [
    "### 5.\tОцените корреляцию между признаков и удалите те признаки, которые коррелируют с наибольшим числом других"
   ]
  },
  {
   "cell_type": "code",
   "execution_count": 50,
   "metadata": {},
   "outputs": [
    {
     "data": {
      "image/png": "[encoded data removed]",
      "text/plain": [
       "<matplotlib.figure.Figure at 0x7f9f722d66d8>"
      ]
     },
     "metadata": {},
     "output_type": "display_data"
    }
   ],
   "source": [
    "df_corr = df.corr()\n",
    "sns.heatmap(df_corr)\n",
    "plt.show()"
   ]
  },
  {
   "cell_type": "code",
   "execution_count": 51,
   "metadata": {},
   "outputs": [
    {
     "data": {
      "text/html": [
       "<div>\n",
       "<table border=\"1\" class=\"dataframe\">\n",
       "  <thead>\n",
       "    <tr style=\"text-align: right;\">\n",
       "      <th></th>\n",
       "      <th>AT</th>\n",
       "      <th>V</th>\n",
       "      <th>AP</th>\n",
       "      <th>RH</th>\n",
       "      <th>PE</th>\n",
       "    </tr>\n",
       "  </thead>\n",
       "  <tbody>\n",
       "    <tr>\n",
       "      <th>AT</th>\n",
       "      <td>1.000000</td>\n",
       "      <td>0.843689</td>\n",
       "      <td>-0.508222</td>\n",
       "      <td>-0.543947</td>\n",
       "      <td>-0.947908</td>\n",
       "    </tr>\n",
       "    <tr>\n",
       "      <th>V</th>\n",
       "      <td>0.843689</td>\n",
       "      <td>1.000000</td>\n",
       "      <td>-0.415718</td>\n",
       "      <td>-0.312214</td>\n",
       "      <td>-0.869900</td>\n",
       "    </tr>\n",
       "    <tr>\n",
       "      <th>AP</th>\n",
       "      <td>-0.508222</td>\n",
       "      <td>-0.415718</td>\n",
       "      <td>1.000000</td>\n",
       "      <td>0.101631</td>\n",
       "      <td>0.518687</td>\n",
       "    </tr>\n",
       "    <tr>\n",
       "      <th>RH</th>\n",
       "      <td>-0.543947</td>\n",
       "      <td>-0.312214</td>\n",
       "      <td>0.101631</td>\n",
       "      <td>1.000000</td>\n",
       "      <td>0.391175</td>\n",
       "    </tr>\n",
       "    <tr>\n",
       "      <th>PE</th>\n",
       "      <td>-0.947908</td>\n",
       "      <td>-0.869900</td>\n",
       "      <td>0.518687</td>\n",
       "      <td>0.391175</td>\n",
       "      <td>1.000000</td>\n",
       "    </tr>\n",
       "  </tbody>\n",
       "</table>\n",
       "</div>"
      ],
      "text/plain": [
       "          AT         V        AP        RH        PE\n",
       "AT  1.000000  0.843689 -0.508222 -0.543947 -0.947908\n",
       "V   0.843689  1.000000 -0.415718 -0.312214 -0.869900\n",
       "AP -0.508222 -0.415718  1.000000  0.101631  0.518687\n",
       "RH -0.543947 -0.312214  0.101631  1.000000  0.391175\n",
       "PE -0.947908 -0.869900  0.518687  0.391175  1.000000"
      ]
     },
     "execution_count": 51,
     "metadata": {},
     "output_type": "execute_result"
    }
   ],
   "source": [
    "df_corr"
   ]
  },
  {
   "cell_type": "markdown",
   "metadata": {},
   "source": [
    "### 6.\tЗаполните пропущенные значения в данных"
   ]
  },
  {
   "cell_type": "code",
   "execution_count": 52,
   "metadata": {},
   "outputs": [
    {
     "name": "stdout",
     "output_type": "stream",
     "text": [
      "dataset size:  (9527, 5)\n"
     ]
    },
    {
     "data": {
      "text/plain": [
       "AT    9527\n",
       "V     9527\n",
       "AP    9527\n",
       "RH    9527\n",
       "PE    9527\n",
       "dtype: int64"
      ]
     },
     "execution_count": 52,
     "metadata": {},
     "output_type": "execute_result"
    }
   ],
   "source": [
    "print('dataset size: ', df.shape)\n",
    "df.count()"
   ]
  },
  {
   "cell_type": "markdown",
   "metadata": {},
   "source": [
    "### 7.\tРешите поставленную задачу регрессии в соответствии с заданием. \n",
    " * Линейная регрессия без использования регуляризаторов\n",
    " * Линейная регрессия, LASSO регуляризатор"
   ]
  },
  {
   "cell_type": "code",
   "execution_count": 87,
   "metadata": {},
   "outputs": [],
   "source": [
    "X, y = df.drop('PE', axis=1), df['PE']\n",
    "X_train, X_test, y_train, y_test = train_test_split(X, y, test_size = 0.3, random_state = 231)"
   ]
  },
  {
   "cell_type": "markdown",
   "metadata": {},
   "source": [
    "Линейная регрессия без использования регуляризаторов"
   ]
  },
  {
   "cell_type": "code",
   "execution_count": 88,
   "metadata": {},
   "outputs": [],
   "source": [
    "from scipy.stats import t\n",
    "import scipy as sc\n",
    "class LinearRegression(linear_model.LinearRegression):\n",
    "\n",
    "    def __init__(self,*args,**kwargs):\n",
    "        # *args is the list of arguments that might go into the LinearRegression object\n",
    "        # that we don't know about and don't want to have to deal with. Similarly, **kwargs\n",
    "        # is a dictionary of key words and values that might also need to go into the orginal\n",
    "        # LinearRegression object. We put *args and **kwargs so that we don't have to look\n",
    "        # these up and write them down explicitly here. Nice and easy.\n",
    "\n",
    "        if not \"fit_intercept\" in kwargs:\n",
    "            kwargs['fit_intercept'] = False\n",
    "\n",
    "        super(LinearRegression,self).__init__(*args,**kwargs)\n",
    "\n",
    "    # Adding in t-statistics for the coefficients.\n",
    "    def fit(self,x,y):\n",
    "        # This takes in numpy arrays (not matrices). Also assumes you are leaving out the column\n",
    "        # of constants.\n",
    "\n",
    "        # Not totally sure what 'super' does here and why you redefine self...\n",
    "        self = super(LinearRegression, self).fit(x,y)\n",
    "        n, k = x.shape\n",
    "        yHat = np.matrix(self.predict(x)).T\n",
    "\n",
    "        # Change X and Y into numpy matricies. x also has a column of ones added to it.\n",
    "        x = np.hstack((np.ones((n,1)),np.matrix(x)))\n",
    "        y = np.matrix(y).T\n",
    "\n",
    "        # Degrees of freedom.\n",
    "        df = float(n-k-1)\n",
    "\n",
    "        # Sample variance.     \n",
    "        sse = np.sum(np.square(yHat - y),axis=0)\n",
    "        self.sampleVariance = sse/df\n",
    "\n",
    "        # Sample variance for x.\n",
    "        self.sampleVarianceX = x.T*x\n",
    "\n",
    "        # Covariance Matrix = [(s^2)(X'X)^-1]^0.5. (sqrtm = matrix square root.  ugly)\n",
    "        self.covarianceMatrix = sc.linalg.sqrtm(self.sampleVariance[0,0]*self.sampleVarianceX.I)\n",
    "\n",
    "        # Standard erros for the difference coefficients: the diagonal elements of the covariance matrix.\n",
    "        self.se = self.covarianceMatrix.diagonal()[1:]\n",
    "\n",
    "        # T statistic for each beta.\n",
    "        self.betasTStat = np.zeros(len(self.se))\n",
    "        for i in range(len(self.se)):\n",
    "            self.betasTStat[i] = self.coef_[i]/self.se[i]\n",
    "\n",
    "        # P-value for each beta. This is a two sided t-test, since the betas can be \n",
    "        # positive or negative.\n",
    "        self.betasPValue = 1 - t.cdf(abs(self.betasTStat),df)"
   ]
  },
  {
   "cell_type": "code",
   "execution_count": 89,
   "metadata": {},
   "outputs": [
    {
     "name": "stdout",
     "output_type": "stream",
     "text": [
      "662    -0.013286\n",
      "6494    0.107206\n",
      "8092   -0.123222\n",
      "2512   -0.117509\n",
      "2585    0.076383\n",
      "6858    0.019200\n",
      "7671   -0.092468\n",
      "4630   -0.126135\n",
      "1827    0.123214\n",
      "9430    0.175601\n",
      "Name: PE, dtype: float64\n"
     ]
    }
   ],
   "source": [
    "regr = LinearRegression()\n",
    "regr.fit(X_train,y_train)\n",
    "pred = regr.predict(X_test)\n",
    "print(pred[:10] - y_test[:10])"
   ]
  },
  {
   "cell_type": "code",
   "execution_count": 93,
   "metadata": {},
   "outputs": [
    {
     "data": {
      "text/plain": [
       "0.0"
      ]
     },
     "execution_count": 93,
     "metadata": {},
     "output_type": "execute_result"
    }
   ],
   "source": [
    "regr.intercept_"
   ]
  },
  {
   "cell_type": "code",
   "execution_count": 91,
   "metadata": {},
   "outputs": [
    {
     "name": "stdout",
     "output_type": "stream",
     "text": [
      "pearson correlation:  0.822438226246\n",
      "spearmen correlation:  0.847433791601\n"
     ]
    }
   ],
   "source": [
    "corr = {}\n",
    "corr['pearson'], _ = pearsonr(pred, y_test)\n",
    "corr['spearman'], _ = spearmanr(pred, y_test)\n",
    "print('pearson correlation: ', corr['pearson'])\n",
    "print('spearmen correlation: ', corr['spearman'])"
   ]
  },
  {
   "cell_type": "code",
   "execution_count": 92,
   "metadata": {},
   "outputs": [
    {
     "name": "stdout",
     "output_type": "stream",
     "text": [
      "p-value:  0.36521830239\n"
     ]
    }
   ],
   "source": [
    "print('p-value: ', regr.betasPValue[0])"
   ]
  },
  {
   "cell_type": "markdown",
   "metadata": {},
   "source": [
    "утверждение что производимую энергию(PE) можно выяснить с нашим набором данных, не верно с вероятностью 0.365, что выше допустимого значения 0.05-0.1"
   ]
  },
  {
   "cell_type": "markdown",
   "metadata": {},
   "source": [
    "Линейная регрессия, LASSO регуляризатор"
   ]
  },
  {
   "cell_type": "code",
   "execution_count": 76,
   "metadata": {},
   "outputs": [
    {
     "data": {
      "text/plain": [
       "Lasso(alpha=0.1, copy_X=True, fit_intercept=True, max_iter=1000,\n",
       "   normalize=False, positive=False, precompute=False, random_state=None,\n",
       "   selection='cyclic', tol=0.0001, warm_start=False)"
      ]
     },
     "execution_count": 76,
     "metadata": {},
     "output_type": "execute_result"
    }
   ],
   "source": [
    "regr = linear_model.Lasso (alpha = 0.1)\n",
    "regr.fit (X_train, y_train)"
   ]
  },
  {
   "cell_type": "code",
   "execution_count": 78,
   "metadata": {},
   "outputs": [
    {
     "data": {
      "text/plain": [
       "array([-0., -0.,  0.,  0.])"
      ]
     },
     "execution_count": 78,
     "metadata": {},
     "output_type": "execute_result"
    }
   ],
   "source": [
    "regr.coef_"
   ]
  },
  {
   "cell_type": "code",
   "execution_count": 80,
   "metadata": {},
   "outputs": [
    {
     "name": "stdout",
     "output_type": "stream",
     "text": [
      "[ 0.45099026  0.45099026  0.45099026  0.45099026  0.45099026  0.45099026\n",
      "  0.45099026  0.45099026  0.45099026  0.45099026]\n"
     ]
    }
   ],
   "source": [
    "pred = regr.predict(X_test)\n",
    "print(pred[:10])"
   ]
  },
  {
   "cell_type": "code",
   "execution_count": 81,
   "metadata": {},
   "outputs": [
    {
     "name": "stdout",
     "output_type": "stream",
     "text": [
      "662     0.272053\n",
      "6494    0.565563\n",
      "8092    0.069404\n",
      "2512    0.548874\n",
      "2585    0.733775\n",
      "6858    0.319073\n",
      "7671    0.168079\n",
      "4630    0.381325\n",
      "1827    0.796026\n",
      "9430    0.256954\n",
      "Name: PE, dtype: float64\n"
     ]
    }
   ],
   "source": [
    "print(y_test[:10])"
   ]
  },
  {
   "cell_type": "code",
   "execution_count": 82,
   "metadata": {},
   "outputs": [
    {
     "name": "stdout",
     "output_type": "stream",
     "text": [
      "662     0.178937\n",
      "6494   -0.114573\n",
      "8092    0.381586\n",
      "2512   -0.097884\n",
      "2585   -0.282785\n",
      "6858    0.131917\n",
      "7671    0.282911\n",
      "4630    0.069666\n",
      "1827   -0.345036\n",
      "9430    0.194037\n",
      "Name: PE, dtype: float64\n"
     ]
    }
   ],
   "source": [
    "print(pred[:10]-y_test[:10])"
   ]
  },
  {
   "cell_type": "code",
   "execution_count": 84,
   "metadata": {},
   "outputs": [
    {
     "data": {
      "text/plain": [
       "0.45099025890186201"
      ]
     },
     "execution_count": 84,
     "metadata": {},
     "output_type": "execute_result"
    }
   ],
   "source": [
    "regr.intercept_"
   ]
  }
 ],
 "metadata": {
  "kernelspec": {
   "display_name": "Python 3",
   "language": "python",
   "name": "python3"
  },
  "language_info": {
   "codemirror_mode": {
    "name": "ipython",
    "version": 3
   },
   "file_extension": ".py",
   "mimetype": "text/x-python",
   "name": "python",
   "nbconvert_exporter": "python",
   "pygments_lexer": "ipython3",
   "version": "3.6.3"
  }
 },
 "nbformat": 4,
 "nbformat_minor": 2
}
